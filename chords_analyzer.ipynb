{
 "cells": [
  {
   "cell_type": "code",
   "execution_count": null,
   "metadata": {},
   "outputs": [],
   "source": [
    "import sys\n",
    "from src.chords_detection import ChordsAnalizer\n",
    "from src.features_recognizer import FeaturesRecognizer\n",
    "import librosa, librosa.display\n",
    "import matplotlib as plt\n",
    "\n",
    "HOP_LENGTH = 256\n",
    "BUFF_SIZE = 1024 * 8\n",
    "CHANNELS = 1 if sys.platform == \"darwin\" else 2\n",
    "SAMPLE_RATE = 44100\n",
    "\n",
    "user_name = 'test_user'\n",
    "record_name = input('Please specify the record name.')\n",
    "\n",
    "with open(f'./streamed_chords/{record_name}.csv', 'w+', encoding='utf-8') as csv_output:\n",
    "    chords_recognizer = FeaturesRecognizer(hop_length=256)\n",
    "    chords_analyzer = ChordsAnalizer(chords_recognizer, BUFF_SIZE, CHANNELS, SAMPLE_RATE)\n",
    "    try:\n",
    "        chords_analyzer.record_chords(csv_output, user_name, record_name)\n",
    "    except KeyboardInterrupt:\n",
    "        output_path = chords_analyzer.stop_audio_stream()\n",
    "        print('Saved to:', csv_output.name)\n",
    "        \n",
    "final_chroma = chords_analyzer.build_final_chroma(output_path)"
   ]
  },
  {
   "cell_type": "code",
   "execution_count": null,
   "metadata": {},
   "outputs": [],
   "source": [
    "def build_final_chroma(path):\n",
    "    \"\"\"\n",
    "    Generate chroma feature from an audio file.\n",
    "    Args:\n",
    "        path (str): Path to the audio file.   \n",
    "    Returns:\n",
    "        np.ndarray: Chroma feature array.\n",
    "    \"\"\"\n",
    "    y, sr = librosa.load(path)\n",
    "    y_trimmed, _ = librosa.effects.trim(y, top_db=10)\n",
    "    return librosa.feature.chroma_cqt(y=y_trimmed, sr=sr)\n",
    "\n",
    "final_chroma = build_final_chroma(output_path)\n",
    "\n",
    "def plot_chroma(chorma, name, cmap='coolwarm'):\n",
    "    \"\"\"\n",
    "    Plot chroma feature.\n",
    "    Args:\n",
    "        chorma (np.ndarray): Chroma feature array.\n",
    "        name (str): Name of the chroma feature.\n",
    "        cmap (str): Color map.\n",
    "    \"\"\"\n",
    "    plt.figure(figsize=(12, 3))\n",
    "    librosa.display.specshow(chorma, x_axis='time', y_axis='chroma', hop_length=HOP_LENGTH, cmap=cmap)\n",
    "    plt.colorbar()\n",
    "    plt.title(f'Chroma {name} ({cmap})')\n",
    "    plt.tight_layout()\n",
    "    plt.show()\n",
    "    \n",
    "plot_chroma(final_chroma, 'CQT')"
   ]
  }
 ],
 "metadata": {
  "kernelspec": {
   "display_name": "chords_env",
   "language": "python",
   "name": "python3"
  },
  "language_info": {
   "codemirror_mode": {
    "name": "ipython",
    "version": 3
   },
   "file_extension": ".py",
   "mimetype": "text/x-python",
   "name": "python",
   "nbconvert_exporter": "python",
   "pygments_lexer": "ipython3",
   "version": "3.12.6"
  }
 },
 "nbformat": 4,
 "nbformat_minor": 2
}
